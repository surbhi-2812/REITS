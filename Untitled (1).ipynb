{
 "cells": [
  {
   "cell_type": "code",
   "execution_count": 2,
   "id": "b1203a7f",
   "metadata": {},
   "outputs": [],
   "source": [
    "import pandas as pd\n"
   ]
  },
  {
   "cell_type": "code",
   "execution_count": 3,
   "id": "3da7f465",
   "metadata": {},
   "outputs": [
    {
     "data": {
      "text/plain": [
       "'1.4.2'"
      ]
     },
     "execution_count": 3,
     "metadata": {},
     "output_type": "execute_result"
    }
   ],
   "source": [
    "pd.__version__"
   ]
  },
  {
   "cell_type": "code",
   "execution_count": 15,
   "id": "54ed62ab",
   "metadata": {},
   "outputs": [],
   "source": [
    "df_csv= pd.read_csv('/Users/Surbhi Baheti/Downloads/portfolio-data.csv')\n"
   ]
  },
  {
   "cell_type": "code",
   "execution_count": 16,
   "id": "7e143ace",
   "metadata": {},
   "outputs": [
    {
     "name": "stdout",
     "output_type": "stream",
     "text": [
      "<class 'pandas.core.frame.DataFrame'>\n",
      "RangeIndex: 201 entries, 0 to 200\n",
      "Data columns (total 8 columns):\n",
      " #   Column                     Non-Null Count  Dtype  \n",
      "---  ------                     --------------  -----  \n",
      " 0   Date                       201 non-null    object \n",
      " 1   SHY.O (Rf)                 201 non-null    float64\n",
      " 2   AAPL.O (Large Cap Stock)   201 non-null    float64\n",
      " 3   EQIX.O (Data Centre REIT)  201 non-null    float64\n",
      " 4   TITN.O (Small Cap Stock)   178 non-null    float64\n",
      " 5   DSL (Bond)                 114 non-null    float64\n",
      " 6   Mean                       201 non-null    float64\n",
      " 7   Median                     201 non-null    float64\n",
      "dtypes: float64(7), object(1)\n",
      "memory usage: 12.7+ KB\n"
     ]
    }
   ],
   "source": [
    "df_csv.info()"
   ]
  },
  {
   "cell_type": "code",
   "execution_count": null,
   "id": "09a8ce5d",
   "metadata": {},
   "outputs": [],
   "source": [
    "monthly_returns = data ['']"
   ]
  }
 ],
 "metadata": {
  "kernelspec": {
   "display_name": "Python 3 (ipykernel)",
   "language": "python",
   "name": "python3"
  },
  "language_info": {
   "codemirror_mode": {
    "name": "ipython",
    "version": 3
   },
   "file_extension": ".py",
   "mimetype": "text/x-python",
   "name": "python",
   "nbconvert_exporter": "python",
   "pygments_lexer": "ipython3",
   "version": "3.9.12"
  }
 },
 "nbformat": 4,
 "nbformat_minor": 5
}
